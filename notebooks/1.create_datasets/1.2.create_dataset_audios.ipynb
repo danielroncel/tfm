{
 "cells": [
  {
   "cell_type": "code",
   "execution_count": 32,
   "metadata": {},
   "outputs": [],
   "source": [
    "import pandas as pd\n",
    "import numpy as np\n",
    "import json\n",
    "import os\n",
    "\n",
    "from huggingface_hub import notebook_login\n",
    "from datasets import Dataset, Audio"
   ]
  },
  {
   "cell_type": "code",
   "execution_count": 7,
   "metadata": {},
   "outputs": [],
   "source": [
    "paths = ['C:\\\\Users\\\\danie\\\\Documents\\\\tfm\\\\tfm\\\\data\\\\audios\\\\Mar13_S0A0\\\\data\\\\Mar13_S0A0\\\\',\n",
    "         'C:\\\\Users\\\\danie\\\\Documents\\\\tfm\\\\tfm\\\\data\\\\audios\\\\Mar13_S0A1\\\\data\\\\Mar13_S0A1\\\\',\n",
    "         'C:\\\\Users\\\\danie\\\\Documents\\\\tfm\\\\tfm\\\\data\\\\audios\\\\Mar13_S1A0\\\\data\\\\Mar13_S1A0\\\\',\n",
    "         'C:\\\\Users\\\\danie\\\\Documents\\\\tfm\\\\tfm\\\\data\\\\audios\\\\Mar13_S1A1\\\\data\\\\Mar13_S1A1\\\\',\n",
    "         'C:\\\\Users\\\\danie\\\\Documents\\\\tfm\\\\tfm\\\\data\\\\audios\\\\Mar13_S2A0\\\\data\\\\Mar13_S2A0\\\\',\n",
    "         'C:\\\\Users\\\\danie\\\\Documents\\\\tfm\\\\tfm\\\\data\\\\audios\\\\Mar13_S2A1\\\\data\\\\Mar13_S2A1\\\\',]"
   ]
  },
  {
   "cell_type": "code",
   "execution_count": 34,
   "metadata": {},
   "outputs": [
    {
     "name": "stdout",
     "output_type": "stream",
     "text": [
      "processing C:\\Users\\danie\\Documents\\tfm\\tfm\\data\\audios\\Mar13_S0A0\\data\\Mar13_S0A0\\ folder audios...\n",
      "processing C:\\Users\\danie\\Documents\\tfm\\tfm\\data\\audios\\Mar13_S0A1\\data\\Mar13_S0A1\\ folder audios...\n",
      "processing C:\\Users\\danie\\Documents\\tfm\\tfm\\data\\audios\\Mar13_S1A0\\data\\Mar13_S1A0\\ folder audios...\n",
      "processing C:\\Users\\danie\\Documents\\tfm\\tfm\\data\\audios\\Mar13_S1A1\\data\\Mar13_S1A1\\ folder audios...\n",
      "processing C:\\Users\\danie\\Documents\\tfm\\tfm\\data\\audios\\Mar13_S2A0\\data\\Mar13_S2A0\\ folder audios...\n",
      "processing C:\\Users\\danie\\Documents\\tfm\\tfm\\data\\audios\\Mar13_S2A1\\data\\Mar13_S2A1\\ folder audios...\n"
     ]
    }
   ],
   "source": [
    "# Initialize lists to store audio paths and corresponding session IDs\n",
    "audio_paths = []\n",
    "session_ids = []\n",
    "\n",
    "for root_folder in paths:\n",
    "\n",
    "    print(f\"processing {root_folder} folder audios...\")\n",
    "\n",
    "    # Iterate over session folders\n",
    "    for session_id in os.listdir(root_folder):\n",
    "        session_folder = os.path.join(root_folder, session_id)\n",
    "        if os.path.isdir(session_folder):\n",
    "            # Inside each session folder, find the original_dir folder\n",
    "            original_dir = os.path.join(session_folder, \"original_dir\")\n",
    "            if os.path.isdir(original_dir):\n",
    "                # Iterate over audio files inside original_dir\n",
    "                for audio_file in os.listdir(original_dir):\n",
    "                    if audio_file.endswith(\".wav\") and ('._' not in audio_file) and ('-x' not in audio_file) and ('stereo' not in audio_file):\n",
    "                        audio_path = os.path.join(original_dir, audio_file)\n",
    "                        audio_paths.append(audio_path)\n",
    "                        session_ids.append(session_id)"
   ]
  },
  {
   "cell_type": "code",
   "execution_count": 35,
   "metadata": {},
   "outputs": [
    {
     "data": {
      "text/plain": [
       "25516"
      ]
     },
     "execution_count": 35,
     "metadata": {},
     "output_type": "execute_result"
    }
   ],
   "source": [
    "len(audio_paths)"
   ]
  },
  {
   "cell_type": "code",
   "execution_count": 36,
   "metadata": {},
   "outputs": [
    {
     "data": {
      "text/plain": [
       "{'path': 'C:\\\\Users\\\\danie\\\\Documents\\\\tfm\\\\tfm\\\\data\\\\audios\\\\Mar13_S0A0\\\\data\\\\Mar13_S0A0\\\\voip-00d76b791d-20130327_010416\\\\original_dir\\\\pt344x_0000993_0001219.wav',\n",
       " 'array': array([ 0.00033569,  0.00033569,  0.00012207, ..., -0.00067139,\n",
       "        -0.00021362,  0.00054932]),\n",
       " 'sampling_rate': 16000}"
      ]
     },
     "execution_count": 36,
     "metadata": {},
     "output_type": "execute_result"
    }
   ],
   "source": [
    "# Create a Hugging Face Dataset\n",
    "audio_dataset = Dataset.from_dict({\"audio\": audio_paths, \"session_ids\": session_ids}).cast_column(\"audio\", Audio())\n",
    "audio_dataset[0][\"audio\"]"
   ]
  },
  {
   "cell_type": "code",
   "execution_count": 42,
   "metadata": {},
   "outputs": [
    {
     "name": "stderr",
     "output_type": "stream",
     "text": [
      "Map: 100%|██████████| 8506/8506 [00:09<00:00, 858.45 examples/s]/s]\n",
      "Creating parquet from Arrow format: 100%|██████████| 86/86 [00:02<00:00, 33.88ba/s]\n",
      "Map: 100%|██████████| 8505/8505 [00:08<00:00, 957.31 examples/s] 33.60s/it]\n",
      "Creating parquet from Arrow format: 100%|██████████| 86/86 [00:02<00:00, 37.36ba/s]\n",
      "Map: 100%|██████████| 8505/8505 [00:07<00:00, 1073.83 examples/s]31.82s/it]\n",
      "Creating parquet from Arrow format: 100%|██████████| 86/86 [00:02<00:00, 35.17ba/s]\n",
      "Uploading the dataset shards: 100%|██████████| 3/3 [01:34<00:00, 31.53s/it]\n"
     ]
    },
    {
     "data": {
      "text/plain": [
       "CommitInfo(commit_url='https://huggingface.co/datasets/danielroncel/dstc2_audios/commit/7c8688489d215d1fb69a5db491beac9fea15788d', commit_message='Upload dataset', commit_description='', oid='7c8688489d215d1fb69a5db491beac9fea15788d', pr_url=None, pr_revision=None, pr_num=None)"
      ]
     },
     "execution_count": 42,
     "metadata": {},
     "output_type": "execute_result"
    }
   ],
   "source": [
    "audio_dataset.push_to_hub('danielroncel/dstc2_audios', token='') # Introduce token"
   ]
  }
 ],
 "metadata": {
  "kernelspec": {
   "display_name": "Python 3",
   "language": "python",
   "name": "python3"
  },
  "language_info": {
   "codemirror_mode": {
    "name": "ipython",
    "version": 3
   },
   "file_extension": ".py",
   "mimetype": "text/x-python",
   "name": "python",
   "nbconvert_exporter": "python",
   "pygments_lexer": "ipython3",
   "version": "3.11.8"
  }
 },
 "nbformat": 4,
 "nbformat_minor": 2
}
